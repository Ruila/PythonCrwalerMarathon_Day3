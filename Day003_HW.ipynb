{
 "cells": [
  {
   "cell_type": "markdown",
   "metadata": {},
   "source": [
    "# Python 下載XML檔案與解析\n",
    "\n",
    "\n",
    "* 了解 xml 檔案格式與內容\n",
    "* 能夠利用套件存取 xml 格式的檔案\n"
   ]
  },
  {
   "cell_type": "markdown",
   "metadata": {},
   "source": [
    "## 作業目標\n",
    "\n",
    "* 比較一下範例檔案中的「File I/O」與「xmltodict」讀出來的內容有什麼差異\n",
    "\n",
    "* 根據範例檔案的結果：\n",
    "    1. 請問高雄市有多少地區有溫度資料？\n",
    "    2. 請取出每一個地區所記錄的第一個時間點跟溫度\n",
    "    3. 請取出第一個地區所記錄的每一個時間點跟溫度"
   ]
  },
  {
   "cell_type": "markdown",
   "metadata": {},
   "source": [
    "### 比較一下範例檔案中的「File I/O」與「xmltodict」讀出來的內容有什麼差異\n"
   ]
  },
  {
   "cell_type": "code",
   "execution_count": null,
   "metadata": {},
   "outputs": [],
   "source": [
    "#File I/O讀出來為xml格式，xmltodict為字串"
   ]
  },
  {
   "cell_type": "markdown",
   "metadata": {},
   "source": [
    "### 根據範例檔案的結果：\n",
    "\n",
    "1. 請問高雄市有多少地區有溫度資料？\n",
    "2. 請取出每一個地區所記錄的第一個時間點跟溫度\n",
    "3. 請取出第一個地區所記錄的每一個時間點跟溫度"
   ]
  },
  {
   "cell_type": "code",
   "execution_count": 49,
   "metadata": {},
   "outputs": [
    {
     "name": "stdout",
     "output_type": "stream",
     "text": [
      "38\n"
     ]
    }
   ],
   "source": [
    "# 1. 請問高雄市有多少地區有溫度資料？\n",
    "\n",
    "import os, sys\n",
    "import xmltodict\n",
    "import json\n",
    "\n",
    "# 讀檔案\n",
    "fh = open(\"./example/64_72hr_CH.xml\", \"r\")\n",
    "xml = fh.read()\n",
    "fh.close()\n",
    "d = dict(xmltodict.parse(xml))\n",
    "# 取出 datasetDescription\n",
    "datasetDescription = d['cwbopendata']['dataset']['locations']['location']\n",
    "# print (datasetDescription)\n",
    "print (len(datasetDescription))\n"
   ]
  },
  {
   "cell_type": "code",
   "execution_count": 50,
   "metadata": {},
   "outputs": [
    {
     "name": "stdout",
     "output_type": "stream",
     "text": [
      "[{'location': '鹽埕區', 'time': '2019-06-28T12:00:00+08:00', 'temperature': '33'}, {'location': '鼓山區', 'time': '2019-06-28T12:00:00+08:00', 'temperature': '33'}, {'location': '左營區', 'time': '2019-06-28T12:00:00+08:00', 'temperature': '33'}, {'location': '楠梓區', 'time': '2019-06-28T12:00:00+08:00', 'temperature': '34'}, {'location': '三民區', 'time': '2019-06-28T12:00:00+08:00', 'temperature': '32'}, {'location': '新興區', 'time': '2019-06-28T12:00:00+08:00', 'temperature': '33'}, {'location': '前金區', 'time': '2019-06-28T12:00:00+08:00', 'temperature': '33'}, {'location': '苓雅區', 'time': '2019-06-28T12:00:00+08:00', 'temperature': '33'}, {'location': '前鎮區', 'time': '2019-06-28T12:00:00+08:00', 'temperature': '33'}, {'location': '旗津區', 'time': '2019-06-28T12:00:00+08:00', 'temperature': '32'}, {'location': '小港區', 'time': '2019-06-28T12:00:00+08:00', 'temperature': '33'}, {'location': '鳳山區', 'time': '2019-06-28T12:00:00+08:00', 'temperature': '34'}, {'location': '林園區', 'time': '2019-06-28T12:00:00+08:00', 'temperature': '33'}, {'location': '大寮區', 'time': '2019-06-28T12:00:00+08:00', 'temperature': '34'}, {'location': '大樹區', 'time': '2019-06-28T12:00:00+08:00', 'temperature': '34'}, {'location': '大社區', 'time': '2019-06-28T12:00:00+08:00', 'temperature': '34'}, {'location': '仁武區', 'time': '2019-06-28T12:00:00+08:00', 'temperature': '33'}, {'location': '鳥松區', 'time': '2019-06-28T12:00:00+08:00', 'temperature': '34'}, {'location': '岡山區', 'time': '2019-06-28T12:00:00+08:00', 'temperature': '34'}, {'location': '橋頭區', 'time': '2019-06-28T12:00:00+08:00', 'temperature': '35'}, {'location': '燕巢區', 'time': '2019-06-28T12:00:00+08:00', 'temperature': '34'}, {'location': '田寮區', 'time': '2019-06-28T12:00:00+08:00', 'temperature': '34'}, {'location': '阿蓮區', 'time': '2019-06-28T12:00:00+08:00', 'temperature': '34'}, {'location': '路竹區', 'time': '2019-06-28T12:00:00+08:00', 'temperature': '33'}, {'location': '湖內區', 'time': '2019-06-28T12:00:00+08:00', 'temperature': '33'}, {'location': '茄萣區', 'time': '2019-06-28T12:00:00+08:00', 'temperature': '33'}, {'location': '永安區', 'time': '2019-06-28T12:00:00+08:00', 'temperature': '32'}, {'location': '彌陀區', 'time': '2019-06-28T12:00:00+08:00', 'temperature': '32'}, {'location': '梓官區', 'time': '2019-06-28T12:00:00+08:00', 'temperature': '32'}, {'location': '旗山區', 'time': '2019-06-28T12:00:00+08:00', 'temperature': '34'}, {'location': '美濃區', 'time': '2019-06-28T12:00:00+08:00', 'temperature': '34'}, {'location': '六龜區', 'time': '2019-06-28T12:00:00+08:00', 'temperature': '34'}, {'location': '甲仙區', 'time': '2019-06-28T12:00:00+08:00', 'temperature': '33'}, {'location': '杉林區', 'time': '2019-06-28T12:00:00+08:00', 'temperature': '36'}, {'location': '內門區', 'time': '2019-06-28T12:00:00+08:00', 'temperature': '34'}, {'location': '茂林區', 'time': '2019-06-28T12:00:00+08:00', 'temperature': '34'}, {'location': '桃源區', 'time': '2019-06-28T12:00:00+08:00', 'temperature': '31'}, {'location': '那瑪夏區', 'time': '2019-06-28T12:00:00+08:00', 'temperature': '29'}]\n"
     ]
    }
   ],
   "source": [
    "# 2. 請取出每一個地區所記錄的第一個時間點跟溫度\n",
    "\n",
    "# 取出 datasetDescription\n",
    "location_list = d['cwbopendata']['dataset']['locations']['location']\n",
    "ans_arr = []\n",
    "for loc in location_list:\n",
    "    dic = {}\n",
    "    dic['location'] = loc['locationName']\n",
    "    dic['time'] = loc['weatherElement'][0]['time'][0]['dataTime']\n",
    "    dic['temperature'] = loc['weatherElement'][0]['time'][0]['elementValue']['value']\n",
    "    \n",
    "    ans_arr.append(dic)\n",
    "    \n",
    "print(ans_arr)\n"
   ]
  },
  {
   "cell_type": "code",
   "execution_count": 64,
   "metadata": {},
   "outputs": [
    {
     "name": "stdout",
     "output_type": "stream",
     "text": [
      "[{'time': '2019-06-28T12:00:00+08:00', 'temperature': '33'}, {'time': '2019-06-28T15:00:00+08:00', 'temperature': '33'}, {'time': '2019-06-28T18:00:00+08:00', 'temperature': '32'}, {'time': '2019-06-28T21:00:00+08:00', 'temperature': '30'}, {'time': '2019-06-29T00:00:00+08:00', 'temperature': '30'}, {'time': '2019-06-29T03:00:00+08:00', 'temperature': '29'}, {'time': '2019-06-29T06:00:00+08:00', 'temperature': '28'}, {'time': '2019-06-29T09:00:00+08:00', 'temperature': '31'}, {'time': '2019-06-29T12:00:00+08:00', 'temperature': '32'}, {'time': '2019-06-29T15:00:00+08:00', 'temperature': '32'}, {'time': '2019-06-29T18:00:00+08:00', 'temperature': '31'}, {'time': '2019-06-29T21:00:00+08:00', 'temperature': '30'}, {'time': '2019-06-30T00:00:00+08:00', 'temperature': '29'}, {'time': '2019-06-30T03:00:00+08:00', 'temperature': '28'}, {'time': '2019-06-30T06:00:00+08:00', 'temperature': '28'}, {'time': '2019-06-30T09:00:00+08:00', 'temperature': '31'}, {'time': '2019-06-30T12:00:00+08:00', 'temperature': '32'}, {'time': '2019-06-30T15:00:00+08:00', 'temperature': '32'}, {'time': '2019-06-30T18:00:00+08:00', 'temperature': '31'}, {'time': '2019-06-30T21:00:00+08:00', 'temperature': '30'}, {'time': '2019-07-01T00:00:00+08:00', 'temperature': '29'}, {'time': '2019-07-01T03:00:00+08:00', 'temperature': '29'}, {'time': '2019-07-01T06:00:00+08:00', 'temperature': '28'}, {'time': '2019-07-01T09:00:00+08:00', 'temperature': '31'}]\n"
     ]
    }
   ],
   "source": [
    "# 3. 請取出第一個地區所記錄的每一個時間點跟溫度\n",
    "\n",
    "firstlocation = d['cwbopendata']['dataset']['locations']['location'][0]['weatherElement'][0]['time']\n",
    "# print(firstlocation)\n",
    "info = []\n",
    "\n",
    "for loc in firstlocation:\n",
    "    dictt = {}\n",
    "    dictt['time'] = loc['dataTime']\n",
    "    dictt['temperature'] = loc['elementValue']['value']\n",
    "    info.append(dictt)\n",
    "print(info)"
   ]
  },
  {
   "cell_type": "code",
   "execution_count": null,
   "metadata": {},
   "outputs": [],
   "source": []
  },
  {
   "cell_type": "code",
   "execution_count": null,
   "metadata": {},
   "outputs": [],
   "source": []
  }
 ],
 "metadata": {
  "kernelspec": {
   "display_name": "Python 3",
   "language": "python",
   "name": "python3"
  },
  "language_info": {
   "codemirror_mode": {
    "name": "ipython",
    "version": 3
   },
   "file_extension": ".py",
   "mimetype": "text/x-python",
   "name": "python",
   "nbconvert_exporter": "python",
   "pygments_lexer": "ipython3",
   "version": "3.8.5"
  }
 },
 "nbformat": 4,
 "nbformat_minor": 2
}
